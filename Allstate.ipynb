{
 "cells": [
  {
   "cell_type": "code",
   "execution_count": 149,
   "metadata": {
    "collapsed": false
   },
   "outputs": [],
   "source": [
    "# Import Libraries\n",
    "%matplotlib inline\n",
    "\n",
    "import pandas\n",
    "import numpy as np\n",
    "import re\n",
    "import operator\n",
    "\n",
    "# import sklearn algorithms\n",
    "from sklearn.linear_model import LinearRegression, LogisticRegression\n",
    "from sklearn.cross_validation import KFold, cross_val_score\n",
    "from sklearn.ensemble import RandomForestClassifier, GradientBoostingClassifier\n",
    "from sklearn.feature_selection import SelectKBest, f_classif"
   ]
  },
  {
   "cell_type": "code",
   "execution_count": 175,
   "metadata": {
    "collapsed": false,
    "scrolled": false
   },
   "outputs": [],
   "source": [
    "# Read in CSV File\n",
    "allstate = pandas.read_csv(\"/Users/ryanallred/Desktop/Allstate_Data/train.csv\")"
   ]
  },
  {
   "cell_type": "code",
   "execution_count": 176,
   "metadata": {
    "collapsed": false,
    "scrolled": true
   },
   "outputs": [],
   "source": [
    "# Fill empty loss column with 0.00 \n",
    "medianVal = 0.00\n",
    "allstate['loss'] = 0.00\n",
    "for i, row in enumerate(allstate['loss']):\n",
    "    allstate.set_value(i, 'loss', medianVal)"
   ]
  },
  {
   "cell_type": "code",
   "execution_count": 177,
   "metadata": {
    "collapsed": false,
    "scrolled": true
   },
   "outputs": [],
   "source": [
    "# Drop complex categorical columns for now.\n",
    "for column in allstate:\n",
    "    if column == \"cat109\" or column == \"cat110\" or column == \"cat112\" or column == \"cat113\" or column == \"cat116\":\n",
    "        allstate.drop(column, 1, inplace=True)"
   ]
  },
  {
   "cell_type": "code",
   "execution_count": 178,
   "metadata": {
    "collapsed": false
   },
   "outputs": [],
   "source": [
    "# create an array subset that is just the remaining categorical variables\n",
    "categorical_headers = allstate.columns.values[1:112]\n",
    "#print(categorical_headers)"
   ]
  },
  {
   "cell_type": "code",
   "execution_count": 181,
   "metadata": {
    "collapsed": false
   },
   "outputs": [],
   "source": [
    "# replace categorical variables with numbers\n",
    "for column in categorical_headers:\n",
    "    allstate.loc[allstate[column] == \"A\", column] = 0\n",
    "    allstate.loc[allstate[column] == \"B\", column] = 1\n",
    "    allstate.loc[allstate[column] == \"C\", column] = 2\n",
    "    allstate.loc[allstate[column] == \"D\", column] = 3\n",
    "    allstate.loc[allstate[column] == \"E\", column] = 4\n",
    "    allstate.loc[allstate[column] == \"F\", column] = 5\n",
    "    allstate.loc[allstate[column] == \"G\", column] = 6\n",
    "    allstate.loc[allstate[column] == \"H\", column] = 7\n",
    "    allstate.loc[allstate[column] == \"I\", column] = 8\n",
    "    allstate.loc[allstate[column] == \"J\", column] = 9\n",
    "    allstate.loc[allstate[column] == \"K\", column] = 11\n",
    "    allstate.loc[allstate[column] == \"L\", column] = 12\n",
    "    allstate.loc[allstate[column] == \"M\", column] = 13\n",
    "    allstate.loc[allstate[column] == \"N\", column] = 14\n",
    "    allstate.loc[allstate[column] == \"O\", column] = 15\n",
    "    allstate.loc[allstate[column] == \"P\", column] = 16\n",
    "    allstate.loc[allstate[column] == \"Q\", column] = 17\n",
    "    allstate.loc[allstate[column] == \"R\", column] = 18\n",
    "    allstate.loc[allstate[column] == \"S\", column] = 19\n",
    "    allstate.loc[allstate[column] == \"T\", column] = 20\n",
    "    allstate.loc[allstate[column] == \"U\", column] = 21\n",
    "    allstate.loc[allstate[column] == \"V\", column] = 22\n",
    "    allstate.loc[allstate[column] == \"W\", column] = 23\n",
    "    allstate.loc[allstate[column] == \"X\", column] = 24\n",
    "    allstate.loc[allstate[column] == \"Y\", column] = 25\n",
    "    allstate.loc[allstate[column] == \"Z\", column] = 26"
   ]
  },
  {
   "cell_type": "code",
   "execution_count": 180,
   "metadata": {
    "collapsed": false
   },
   "outputs": [
    {
     "name": "stdout",
     "output_type": "stream",
     "text": [
      "['cat1' 'cat2' 'cat3' 'cat4' 'cat5' 'cat6' 'cat7' 'cat8' 'cat9' 'cat10'\n",
      " 'cat11' 'cat12' 'cat13' 'cat14' 'cat15' 'cat16' 'cat17' 'cat18' 'cat19'\n",
      " 'cat20' 'cat21' 'cat22' 'cat23' 'cat24' 'cat25' 'cat26' 'cat27' 'cat28'\n",
      " 'cat29' 'cat30' 'cat31' 'cat32' 'cat33' 'cat34' 'cat35' 'cat36' 'cat37'\n",
      " 'cat38' 'cat39' 'cat40' 'cat41' 'cat42' 'cat43' 'cat44' 'cat45' 'cat46'\n",
      " 'cat47' 'cat48' 'cat49' 'cat50' 'cat51' 'cat52' 'cat53' 'cat54' 'cat55'\n",
      " 'cat56' 'cat57' 'cat58' 'cat59' 'cat60' 'cat61' 'cat62' 'cat63' 'cat64'\n",
      " 'cat65' 'cat66' 'cat67' 'cat68' 'cat69' 'cat70' 'cat71' 'cat72' 'cat73'\n",
      " 'cat74' 'cat75' 'cat76' 'cat77' 'cat78' 'cat79' 'cat80' 'cat81' 'cat82'\n",
      " 'cat83' 'cat84' 'cat85' 'cat86' 'cat87' 'cat88' 'cat89' 'cat90' 'cat91'\n",
      " 'cat92' 'cat93' 'cat94' 'cat95' 'cat96' 'cat97' 'cat98' 'cat99' 'cat100'\n",
      " 'cat101' 'cat102' 'cat103' 'cat104' 'cat105' 'cat106' 'cat107' 'cat108'\n",
      " 'cat111' 'cat114' 'cat115' 'cont1' 'cont2' 'cont3' 'cont4' 'cont5' 'cont6'\n",
      " 'cont7' 'cont8' 'cont9' 'cont10' 'cont11' 'cont12' 'cont13' 'cont14']\n"
     ]
    }
   ],
   "source": [
    "#get column headers to be used in analysis\n",
    "predictors = allstate.columns.values[1:126]\n",
    "print(predictors)"
   ]
  },
  {
   "cell_type": "code",
   "execution_count": 183,
   "metadata": {
    "collapsed": false
   },
   "outputs": [
    {
     "name": "stdout",
     "output_type": "stream",
     "text": [
      "[ 0.  0.  0. ...,  0.  0.  0.]\n",
      "[ 0.  0.  0. ...,  0.  0.  0.]\n",
      "[ 0.  0.  0. ...,  0.  0.  0.]\n"
     ]
    }
   ],
   "source": [
    "# Linear Regression\n",
    "alg = LinearRegression()\n",
    "kf = KFold(allstate.shape[0], n_folds=3, random_state=1)\n",
    "predictions = []\n",
    "for train, test in kf:\n",
    "    train_predictors = (allstate[predictors].iloc[train,:])\n",
    "    train_target = allstate[\"loss\"].iloc[train]\n",
    "    alg.fit(train_predictors, train_target)\n",
    "    test_predictions = alg.predict(allstate[predictors].iloc[test,:])\n",
    "    print(test_predictions)\n",
    "    predictions.append(test_predictions)\n",
    "predictions = np.concatenate(predictions, axis=0)\n",
    "\n",
    "# for prediction in predictions:\n",
    "#     print(prediction)"
   ]
  },
  {
   "cell_type": "code",
   "execution_count": 187,
   "metadata": {
    "collapsed": false
   },
   "outputs": [
    {
     "name": "stdout",
     "output_type": "stream",
     "text": [
      "1.0\n",
      "1.0\n",
      "1.0\n",
      "1.0\n",
      "1.0\n",
      "1.0\n",
      "1.0\n",
      "1.0\n",
      "1.0\n",
      "1.0\n",
      "1.0\n",
      "1.0\n",
      "1.0\n",
      "1.0\n",
      "1.0\n",
      "1.0\n",
      "1.0\n",
      "1.0\n",
      "1.0\n",
      "1.0\n"
     ]
    }
   ],
   "source": [
    "# Random Forest\n",
    "predictors = allstate.columns.values[1:126]\n",
    "alg = RandomForestClassifier(random_state=1, n_estimators=10, min_samples_split=10, min_samples_leaf=1)\n",
    "scores = cross_val_score(alg, allstate[predictors], allstate[\"loss\"], cv=20)\n",
    "# print(scores.mean())\n",
    "\n",
    "for score in scores:\n",
    "    print(score)"
   ]
  },
  {
   "cell_type": "code",
   "execution_count": 188,
   "metadata": {
    "collapsed": true
   },
   "outputs": [],
   "source": [
    "#Delete extra rows and export to CSV\n",
    "for column in allstate:\n",
    "    if column != \"loss\" and column != \"id\":\n",
    "        allstate.drop(column, 1, inplace=True)\n",
    "allstate.to_csv(\"/Users/ryanallred/Desktop/Allstate_Data/final.csv\", index=False, float_format='%.3f')"
   ]
  },
  {
   "cell_type": "code",
   "execution_count": null,
   "metadata": {
    "collapsed": true
   },
   "outputs": [],
   "source": []
  },
  {
   "cell_type": "code",
   "execution_count": null,
   "metadata": {
    "collapsed": true
   },
   "outputs": [],
   "source": []
  }
 ],
 "metadata": {
  "anaconda-cloud": {},
  "kernelspec": {
   "display_name": "Python [conda root]",
   "language": "python",
   "name": "conda-root-py"
  },
  "language_info": {
   "codemirror_mode": {
    "name": "ipython",
    "version": 3
   },
   "file_extension": ".py",
   "mimetype": "text/x-python",
   "name": "python",
   "nbconvert_exporter": "python",
   "pygments_lexer": "ipython3",
   "version": "3.5.2"
  }
 },
 "nbformat": 4,
 "nbformat_minor": 1
}
